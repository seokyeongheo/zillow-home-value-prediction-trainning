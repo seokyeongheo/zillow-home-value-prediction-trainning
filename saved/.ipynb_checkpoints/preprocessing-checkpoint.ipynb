{
 "cells": [
  {
   "cell_type": "code",
   "execution_count": 2,
   "metadata": {},
   "outputs": [
    {
     "ename": "ModuleNotFoundError",
     "evalue": "No module named 'fancyimpute'",
     "output_type": "error",
     "traceback": [
      "\u001b[0;31m---------------------------------------------------------------------------\u001b[0m",
      "\u001b[0;31mModuleNotFoundError\u001b[0m                       Traceback (most recent call last)",
      "\u001b[0;32m<ipython-input-2-f9aec7f54a4a>\u001b[0m in \u001b[0;36m<module>\u001b[0;34m()\u001b[0m\n\u001b[1;32m      1\u001b[0m \u001b[0;32mfrom\u001b[0m \u001b[0mstatsmodels\u001b[0m\u001b[0;34m.\u001b[0m\u001b[0mgraphics\u001b[0m \u001b[0;32mimport\u001b[0m \u001b[0mutils\u001b[0m\u001b[0;34m\u001b[0m\u001b[0m\n\u001b[1;32m      2\u001b[0m \u001b[0;32mimport\u001b[0m \u001b[0mmissingno\u001b[0m \u001b[0;32mas\u001b[0m \u001b[0mmsno\u001b[0m\u001b[0;34m\u001b[0m\u001b[0m\n\u001b[0;32m----> 3\u001b[0;31m \u001b[0;32mimport\u001b[0m \u001b[0mfancyimpute\u001b[0m\u001b[0;34m\u001b[0m\u001b[0m\n\u001b[0m\u001b[1;32m      4\u001b[0m \u001b[0;34m\u001b[0m\u001b[0m\n\u001b[1;32m      5\u001b[0m \u001b[0;31m# %matplotlib inline\u001b[0m\u001b[0;34m\u001b[0m\u001b[0;34m\u001b[0m\u001b[0m\n",
      "\u001b[0;31mModuleNotFoundError\u001b[0m: No module named 'fancyimpute'"
     ]
    }
   ],
   "source": [
    "from statsmodels.graphics import utils\n",
    "import missingno as msno\n",
    "import fancyimpute\n",
    "\n",
    "# %matplotlib inline"
   ]
  },
  {
   "cell_type": "code",
   "execution_count": null,
   "metadata": {},
   "outputs": [],
   "source": []
  },
  {
   "cell_type": "code",
   "execution_count": 1,
   "metadata": {},
   "outputs": [
    {
     "name": "stderr",
     "output_type": "stream",
     "text": [
      "C:\\ProgramData\\Anaconda3\\lib\\site-packages\\h5py\\__init__.py:36: FutureWarning: Conversion of the second argument of issubdtype from `float` to `np.floating` is deprecated. In future, it will be treated as `np.float64 == np.dtype(float).type`.\n",
      "  from ._conv import register_converters as _register_converters\n",
      "Using TensorFlow backend.\n"
     ]
    }
   ],
   "source": [
    "from statsmodels.graphics import utils\n",
    "import missingno as msno\n",
    "import fancyimpute\n",
    "from fancyimpute import KNN\n",
    "%matplotlib inline"
   ]
  },
  {
   "cell_type": "code",
   "execution_count": 2,
   "metadata": {},
   "outputs": [],
   "source": [
    "columns = {\"parcelid\": \"I_parcelid\" ,\n",
    "\"logerror\": \"Z_logerror\" ,\n",
    "\"transactiondate\": \"T_transactiondate\" ,\n",
    "\"airconditioningtypeid\": \"C_airconditioningtypeid\" ,\n",
    "\"architecturalstyletypeid\": \"C_architecturalstyletypeid\" ,\n",
    "\"basementsqft\": \"R_basementsqft\" ,\n",
    "\"bathroomcnt\": \"R_bathroomcnt\" ,\n",
    "\"bedroomcnt\": \"R_bedroomcnt\" ,\n",
    "\"buildingclasstypeid\": \"C_buildingclasstypeid\" ,\n",
    "\"buildingqualitytypeid\": \"C_buildingqualitytypeid\" ,\n",
    "\"calculatedbathnbr\": \"R_calculatedbathnbr\" ,\n",
    "\"decktypeid\": \"C_decktypeid\" ,\n",
    "\"finishedfloor1squarefeet\": \"R_finishedfloor1squarefeet\" ,\n",
    "\"calculatedfinishedsquarefeet\": \"R_calculatedfinishedsquarefeet\" ,\n",
    "\"finishedsquarefeet12\": \"R_finishedsquarefeet12\" ,\n",
    "\"finishedsquarefeet13\": \"R_finishedsquarefeet13\" ,\n",
    "\"finishedsquarefeet15\": \"R_finishedsquarefeet15\" ,\n",
    "\"finishedsquarefeet50\": \"R_finishedsquarefeet50\" ,\n",
    "\"finishedsquarefeet6\": \"R_finishedsquarefeet6\" ,\n",
    "\"fips\": \"C_fips\" ,\n",
    "\"fireplacecnt\": \"R_fireplacecnt\" ,\n",
    "\"fullbathcnt\": \"R_fullbathcnt\" ,\n",
    "\"garagecarcnt\": \"R_garagecarcnt\" ,\n",
    "\"garagetotalsqft\": \"R_garagetotalsqft\" ,\n",
    "\"hashottuborspa\": \"C_hashottuborspa\" ,\n",
    "\"heatingorsystemtypeid\": \"C_heatingorsystemtypeid\" ,\n",
    "\"latitude\": \"R_latitude\" ,\n",
    "\"longitude\": \"R_longitude\" ,\n",
    "\"lotsizesquarefeet\": \"R_lotsizesquarefeet\" ,\n",
    "\"poolcnt\": \"R_poolcnt\" ,\n",
    "\"poolsizesum\": \"R_poolsizesum\" ,\n",
    "\"pooltypeid10\": \"C_pooltypeid10\" ,\n",
    "\"pooltypeid2\": \"C_pooltypeid2\" ,\n",
    "\"pooltypeid7\": \"C_pooltypeid7\" ,\n",
    "\"propertycountylandusecode\": \"C_propertycountylandusecode\" ,\n",
    "\"propertylandusetypeid\": \"C_propertylandusetypeid\" ,\n",
    "\"propertyzoningdesc\": \"C_propertyzoningdesc\" ,\n",
    "\"rawcensustractandblock\": \"G_rawcensustractandblock\" ,\n",
    "\"regionidcity\": \"C_regionidcity\" ,\n",
    "\"regionidcounty\": \"C_regionidcounty\" ,\n",
    "\"regionidneighborhood\": \"C_regionidneighborhood\" ,\n",
    "\"regionidzip\": \"C_regionidzip\" ,\n",
    "\"roomcnt\": \"R_roomcnt\" ,\n",
    "\"storytypeid\": \"C_storytypeid\" ,\n",
    "\"threequarterbathnbr\": \"R_threequarterbathnbr\" ,\n",
    "\"typeconstructiontypeid\": \"C_typeconstructiontypeid\" ,\n",
    "\"unitcnt\": \"R_unitcnt\" ,\n",
    "\"yardbuildingsqft17\": \"R_yardbuildingsqft17\" ,\n",
    "\"yardbuildingsqft26\": \"R_yardbuildingsqft26\" ,\n",
    "\"yearbuilt\": \"T_yearbuilt\" ,\n",
    "\"numberofstories\": \"R_numberofstories\" ,\n",
    "\"fireplaceflag\": \"C_fireplaceflag\" ,\n",
    "\"structuretaxvaluedollarcnt\": \"R_structuretaxvaluedollarcnt\" ,\n",
    "\"taxvaluedollarcnt\": \"R_taxvaluedollarcnt\" ,\n",
    "\"assessmentyear\": \"T_assessmentyear\" ,\n",
    "\"landtaxvaluedollarcnt\": \"R_landtaxvaluedollarcnt\" ,\n",
    "\"taxamount\": \"R_taxamount\" ,\n",
    "\"taxdelinquencyflag\": \"C_taxdelinquencyflag\" ,\n",
    "\"taxdelinquencyyear\": \"T_taxdelinquencyyear\" ,\n",
    "\"censustractandblock\": \"G_censustractandblock\" ,\n",
    "}"
   ]
  },
  {
   "cell_type": "code",
   "execution_count": 4,
   "metadata": {},
   "outputs": [
    {
     "name": "stderr",
     "output_type": "stream",
     "text": [
      "C:\\ProgramData\\Anaconda3\\lib\\site-packages\\IPython\\core\\interactiveshell.py:2728: DtypeWarning: Columns (22,32,34,49,55) have mixed types. Specify dtype option on import or set low_memory=False.\n",
      "  interactivity=interactivity, compiler=compiler, result=result)\n",
      "C:\\ProgramData\\Anaconda3\\lib\\site-packages\\numpy\\lib\\arraysetops.py:466: FutureWarning: elementwise comparison failed; returning scalar instead, but in the future will perform elementwise comparison\n",
      "  mask |= (ar1 == a)\n",
      "C:\\ProgramData\\Anaconda3\\lib\\site-packages\\IPython\\core\\interactiveshell.py:2728: DtypeWarning: Columns (49) have mixed types. Specify dtype option on import or set low_memory=False.\n",
      "  interactivity=interactivity, compiler=compiler, result=result)\n"
     ]
    }
   ],
   "source": [
    "# Initial data import\n",
    "df_2016 = pd.read_csv(\"~/src/properties_2016.csv\", index_col=\"parcelid\")\n",
    "train_2016 = pd.read_csv(\"~/src/train_2016.csv\", index_col=\"parcelid\")\n",
    "train_2016_join = train_2016.join(df_2016)\n",
    "train_2016_join.rename(columns=columns, inplace=True)\n",
    "train_2016_join.sort_index(axis=1, inplace=True)\n",
    "train_2016_join.to_csv(\"./datasets/train_2016_join.csv\")\n",
    "\n",
    "df_2017 = pd.read_csv(\"~/src/properties_2017.csv\", index_col=\"parcelid\")\n",
    "train_2017 = pd.read_csv(\"~/src/train_2017.csv\", index_col=\"parcelid\")\n",
    "train_2017_join = train_2017.join(df_2017)\n",
    "train_2017_join.rename(columns=columns, inplace=True)\n",
    "train_2017_join.sort_index(axis=1, inplace=True)\n",
    "train_2017_join.to_csv(\"./datasets/train_2017_join.csv\")\n",
    "\n",
    "del df_2016\n",
    "del df_2017"
   ]
  },
  {
   "cell_type": "code",
   "execution_count": 5,
   "metadata": {},
   "outputs": [
    {
     "name": "stdout",
     "output_type": "stream",
     "text": [
      "[MICE] Completing matrix with shape (90275, 30)\n",
      "[MICE] Starting imputation round 1/20, elapsed time 0.057\n",
      "[MICE] Starting imputation round 2/20, elapsed time 2.420\n",
      "[MICE] Starting imputation round 3/20, elapsed time 4.650\n",
      "[MICE] Starting imputation round 4/20, elapsed time 6.831\n",
      "[MICE] Starting imputation round 5/20, elapsed time 9.039\n",
      "[MICE] Starting imputation round 6/20, elapsed time 11.284\n",
      "[MICE] Starting imputation round 7/20, elapsed time 13.571\n",
      "[MICE] Starting imputation round 8/20, elapsed time 15.904\n",
      "[MICE] Starting imputation round 9/20, elapsed time 18.308\n",
      "[MICE] Starting imputation round 10/20, elapsed time 20.555\n",
      "[MICE] Starting imputation round 11/20, elapsed time 22.758\n",
      "[MICE] Starting imputation round 12/20, elapsed time 24.931\n",
      "[MICE] Starting imputation round 13/20, elapsed time 27.148\n",
      "[MICE] Starting imputation round 14/20, elapsed time 29.347\n",
      "[MICE] Starting imputation round 15/20, elapsed time 31.553\n",
      "[MICE] Starting imputation round 16/20, elapsed time 33.800\n",
      "[MICE] Starting imputation round 17/20, elapsed time 35.972\n",
      "[MICE] Starting imputation round 18/20, elapsed time 38.161\n",
      "[MICE] Starting imputation round 19/20, elapsed time 40.306\n",
      "[MICE] Starting imputation round 20/20, elapsed time 42.495\n"
     ]
    }
   ],
   "source": [
    "# df_rs = pd.DataFrame()\n",
    "# for x in train_2016_join.columns:\n",
    "#     if x[0] == \"R\":\n",
    "#         df_rs[x] = train_2016_join[x]\n",
    "# names = dict(enumerate(list(df_rs.columns)))\n",
    "# index = dict(enumerate(list(df_rs.index)))\n",
    "# df_rs_impute = pd.DataFrame(fancyimpute.MICE(n_imputations=10).complete(df_rs))\n",
    "# df_rs_impute.rename(columns=names, index=index, inplace=True)\n",
    "# df_rs_impute[\"Z_logerror\"] = train_2016_join[\"Z_logerror\"]    "
   ]
  },
  {
   "cell_type": "code",
   "execution_count": 7,
   "metadata": {},
   "outputs": [],
   "source": [
    "df_cs = pd.DataFrame()\n",
    "for x in train_2016_join.columns:\n",
    "    if x[0] != \"R\":\n",
    "        df_cs[x] = train_2016_join[x]\n",
    "df_cs[\"Z_logerror\"] = df_rs_impute[\"Z_logerror\"]"
   ]
  },
  {
   "cell_type": "code",
   "execution_count": 8,
   "metadata": {},
   "outputs": [],
   "source": [
    "name1 = \"C_propertycountylandusecode\"\n",
    "name2 = \"C_regionidzip\"\n",
    "name3 = \"C_taxdelinquencyflag\"\n",
    "name4 = \"C_regionidneighborhood\"\n",
    "name5 = \"T_taxdelinquencyyear\"\n",
    "name6 = \"C_fips\"\n",
    "name7 = \"C_heatingorsystemtypeid\"\n",
    "name8 = \"C_buildingqualitytypeid\"\n",
    "name9 = \"C_regionidcounty\"\n",
    "name10 = \"C_regionidcity\"\n",
    "name11 = \"C_propertyzoningdesc\"\n",
    "\n",
    "dic_1 = [\n",
    "    \"0100\",\"0109\",\"010C\",\"010D\",\"010E\",\"0200\",\"0401\",\"040A\",\"0700\",\"1\",\"1110\",\n",
    "    \"1111\",\"1129\",\"112\",\"1720\",\"1722\",]\n",
    "dic_2 = [\n",
    "    95982,95983,96005,96019,96123,96207,96267,96323,96354,96364,96464,\n",
    "    96480,96488,96507,96951,96989,97003,97089,97118,97344\n",
    "]\n",
    "dic_4 = [\n",
    "    31383,36630,40548,47880,115657,118920,268496,275340,275795,416314,416963,760999,\n",
    "    762178,\n",
    "]\n",
    "dic_5 = [\n",
    "    8.0, 14.0, 15.0\n",
    "]\n",
    "dic_6 = [\n",
    "    6111.0\n",
    "]\n",
    "dic_7 = [\n",
    "    2.0,\n",
    "]\n",
    "dic_8 = [\n",
    "    1.0, 8.0\n",
    "]\n",
    "dic_10 = [\n",
    "    3491.0, 6822.0, 10241.0, 12447.0, 12520.0, 13150.0, 13693.0, 18875.0, 20008.0,\n",
    "    22827.0, 24245.0, 25621.0, 25953.0, 26965.0, 27110.0, 30267.0, 31134.0, 33612.0,\n",
    "    33837.0, 34278.0, 36502.0, 37015.0, 38032.0, 39306.0, 40227.0, 45457.0, 46098.0,\n",
    "    46298.0, 47568.0, 50749.0, 51239.0, 52650.0, 53027.0, 54053.0, 54212.0, 54299.0,\n",
    "]\n",
    "dic_11 = [\n",
    "    u\"ARR11000D*\", u\"AVU*\", u\"BFM1*\",\n",
    "    u\"BHR1*\", u\"BRA2*\", u\"BUR5*\", u\"CCC3\", u\"CEADP4\", u\"CLHC*\", \n",
    "    u\"CUR3*\", u\"CV17500-RD\", u\"EMCO*\", u\"GLR-4*\", u\"HBR2B*\", u\"LAC2\", u\"LAC2(PV)\", u\"LAR3\",\n",
    "    u\"LAR5\", u\"LARA\", u\"LARS\", u\"LBPD1\", u\"LBR2L\", u\"LCA11*\", u\"LCA11000*\",\n",
    "    u\"LCA16000*\", u\"LCC1-RA100\", u\"LCC2YY\", u\"LCR110000*\",\n",
    "    u\"LCR2YY\", u\"LCRA7S\", u\"LCRAL*\", u\"LCRPD13U-R\", u\"LPR2*\",\n",
    "    u\"LRHI\", u\"LRP*\", u\"LRR 2 *\", u\"LUCR110000\", u\"MNRH\", u\"MNRM\", \n",
    "    u\"PDM4\", u\"POC4-R3100\", u\"POR3*\", u\"PSR1\", u\"RMC3D*\", u\"RMR1YY\", u\"SGR3-R1*\", \n",
    "    u\"SGR305\", u\"SLR1YY\", u\"SOR12L\", u\"SRRPCC*\", u\"SSR1*\", u\"TCR4YY\", u\"TORR-LO\", u\"WAR18500RU\", u\"WDC1B*\"\n",
    "]\n",
    "\n",
    "df_cs[name1].where(df_cs[name1].isin(dic_1), other=\"Others\", inplace=True)\n",
    "df_cs[name2].where(df_cs[name2].isin(dic_2), other=\"Others\", inplace=True)\n",
    "df_cs[name4].where(df_cs[name4].isin(dic_4), other=\"Others\", inplace=True)\n",
    "df_cs[name5].where(df_cs[name5].isin(dic_5), other=\"Others\", inplace=True)\n",
    "df_cs[name6].where(df_cs[name6].isin(dic_6), other=\"Others\", inplace=True)\n",
    "df_cs[name7].where(df_cs[name7].isin(dic_7), other=\"Others\", inplace=True)\n",
    "df_cs[name8].where(df_cs[name8].isin(dic_8), other=\"Others\", inplace=True)\n",
    "df_cs[name10].where(df_cs[name10].isin(dic_10), other=\"Others\", inplace=True)\n",
    "df_cs[name11].where(df_cs[name11].isin(dic_11), other=\"Others\", inplace=True)"
   ]
  },
  {
   "cell_type": "code",
   "execution_count": null,
   "metadata": {},
   "outputs": [],
   "source": [
    "df_join = df_rs_impute.join(df_cs.drop(\"Z_logerror\", axis=1))\n",
    "\n",
    "name1 = \"C_propertycountylandusecode\"\n",
    "name2 = \"C_regionidzip\"\n",
    "name3 = \"C_taxdelinquencyflag\"\n",
    "name4 = \"C_regionidneighborhood\"\n",
    "name5 = \"T_taxdelinquencyyear\"\n",
    "name6 = \"C_fips\"\n",
    "name7 = \"C_heatingorsystemtypeid\"\n",
    "name8 = \"C_buildingqualitytypeid\"\n",
    "name9 = \"C_regionidcounty\"\n",
    "name10 = \"C_regionidcity\"\n",
    "name11 = \"C_propertyzoningdesc\"\n",
    "\n",
    "c_features = [\n",
    "    \"R_logerror\", name1, name2, name3, name4, name5, name6, name7, name8, name9,\n",
    "    name10, name11\n",
    "]\n",
    "\n",
    "reals = [\"scale({})\".format(x) for x in df_join.columns if x[0] == \"R\"]\n",
    "cates = [\"C({})\".format(x) for x in c_features[1:]]\n",
    "features = []\n",
    "for x in cates:\n",
    "    features.append(x)\n",
    "for x in reals:\n",
    "    features.append(x)\n",
    "    for y in cates:\n",
    "        features.append(\"{}:{}\".format(x, y))\n",
    "\n",
    "formula = \"Z_logerror~\"+\"+\".join(features)\n",
    "\n",
    "df_OLS = df_join.fillna(\"Others\")\n",
    "model = sm.OLS.from_formula(formula, df_OLS)\n",
    "result = model.fit()\n",
    "result.summary()"
   ]
  },
  {
   "cell_type": "code",
   "execution_count": null,
   "metadata": {},
   "outputs": [],
   "source": []
  }
 ],
 "metadata": {
  "kernelspec": {
   "display_name": "Python 3",
   "language": "python",
   "name": "python3"
  },
  "language_info": {
   "codemirror_mode": {
    "name": "ipython",
    "version": 3
   },
   "file_extension": ".py",
   "mimetype": "text/x-python",
   "name": "python",
   "nbconvert_exporter": "python",
   "pygments_lexer": "ipython3",
   "version": "3.6.5"
  }
 },
 "nbformat": 4,
 "nbformat_minor": 2
}
