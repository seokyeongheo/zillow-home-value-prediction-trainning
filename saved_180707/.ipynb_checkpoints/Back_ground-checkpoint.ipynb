{
 "cells": [
  {
   "cell_type": "markdown",
   "metadata": {},
   "source": [
    "# 분석해본 자료들"
   ]
  },
  {
   "cell_type": "code",
   "execution_count": null,
   "metadata": {},
   "outputs": [],
   "source": [
    "%matplotlib inline"
   ]
  },
  {
   "cell_type": "code",
   "execution_count": null,
   "metadata": {
    "scrolled": true
   },
   "outputs": [],
   "source": [
    "prop_2016 = pd.read_csv(\"C:\\\\dss\\\\team_project\\\\first\\data\\\\properties_2016.csv\")\n",
    "prop_2016"
   ]
  },
  {
   "cell_type": "code",
   "execution_count": null,
   "metadata": {
    "scrolled": true
   },
   "outputs": [],
   "source": [
    "train_2016 = pd.read_csv(\"C:\\\\dss\\\\team_project\\\\first\\data\\\\train_2016_v2.csv\")\n",
    "train_2016"
   ]
  },
  {
   "cell_type": "code",
   "execution_count": null,
   "metadata": {
    "scrolled": true
   },
   "outputs": [],
   "source": [
    "m_data = pd.merge(prop_2016, train_2016)\n",
    "m_data"
   ]
  },
  {
   "cell_type": "markdown",
   "metadata": {},
   "source": [
    "-----"
   ]
  },
  {
   "cell_type": "markdown",
   "metadata": {},
   "source": [
    "# Logerror variance"
   ]
  },
  {
   "cell_type": "code",
   "execution_count": null,
   "metadata": {
    "scrolled": false
   },
   "outputs": [],
   "source": [
    "x = m_data['logerror']\n",
    "f, (ax_box, ax_hist) = plt.subplots(2, sharex=True ,\n",
    "                                    gridspec_kw={\"height_ratios\": (.15, .85)})\n",
    "sns.boxplot(x, ax=ax_box)\n",
    "sns.distplot(x, ax=ax_hist, bins=400, kde=False)\n",
    "ax_box.set(yticks=[])\n",
    "sns.despine(ax=ax_hist)\n",
    "sns.despine(ax=ax_box, left=True)\n",
    "# plt.xlim([-0.3, 0.3])\n",
    "plt.show()"
   ]
  },
  {
   "cell_type": "markdown",
   "metadata": {},
   "source": [
    "------"
   ]
  },
  {
   "cell_type": "markdown",
   "metadata": {},
   "source": [
    "# Logerorr map of county (in latit, longit)"
   ]
  },
  {
   "cell_type": "code",
   "execution_count": null,
   "metadata": {},
   "outputs": [],
   "source": [
    "from ggplot import *"
   ]
  },
  {
   "cell_type": "code",
   "execution_count": null,
   "metadata": {},
   "outputs": [],
   "source": [
    "plt.figure(figsize=(12,12))\n",
    "sns.jointplot(x=m_data.latitude.values, y=m_data.longitude.values, size=10)\n",
    "plt.ylabel('Longitude', fontsize=12)\n",
    "plt.xlabel('Latitude', fontsize=12)\n",
    "plt.show()"
   ]
  },
  {
   "cell_type": "code",
   "execution_count": null,
   "metadata": {},
   "outputs": [],
   "source": [
    "ggplot(aes(x='latitude', y='longitude', color='regionidcounty'), data=m_data) + geom_point() + scale_color_gradient(low='red', mid='blue', high='green')"
   ]
  },
  {
   "cell_type": "code",
   "execution_count": null,
   "metadata": {},
   "outputs": [],
   "source": [
    "ggplot(aes(x='latitude', y='longitude', color='logerror'), data=m_data) + geom_point() + scale_color_gradient(low = 'red', high = 'blue')"
   ]
  },
  {
   "cell_type": "code",
   "execution_count": null,
   "metadata": {},
   "outputs": [],
   "source": [
    "m_data[\"regionidcounty\"]"
   ]
  },
  {
   "cell_type": "markdown",
   "metadata": {},
   "source": [
    "--------"
   ]
  },
  {
   "cell_type": "markdown",
   "metadata": {},
   "source": [
    "# Month logerror "
   ]
  },
  {
   "cell_type": "code",
   "execution_count": null,
   "metadata": {},
   "outputs": [],
   "source": [
    "m_data[\"transactiondate\"] = m_data[\"transactiondate\"].astype(\"datetime64\").dt.month"
   ]
  },
  {
   "cell_type": "markdown",
   "metadata": {},
   "source": [
    "#### transaction month"
   ]
  },
  {
   "cell_type": "code",
   "execution_count": null,
   "metadata": {
    "scrolled": false
   },
   "outputs": [],
   "source": [
    "plt.figure(figsize=(10,10))\n",
    "cnt_log = m_data['transactiondate'].value_counts()\n",
    "sns.barplot(cnt_log.index,cnt_log)\n",
    "plt.ylabel('num of transactions')"
   ]
  },
  {
   "cell_type": "markdown",
   "metadata": {},
   "source": [
    "#### month logerorr"
   ]
  },
  {
   "cell_type": "code",
   "execution_count": null,
   "metadata": {},
   "outputs": [],
   "source": [
    "plt.figure(figsize=(10,10))\n",
    "sns.barplot(m_data[\"transactiondate\"], abs(m_data[\"logerror\"]))\n",
    "plt.xticks(np.arange(1,13))\n",
    "plt.yticks(np.arange(0,1))\n",
    "plt.show()"
   ]
  },
  {
   "cell_type": "code",
   "execution_count": null,
   "metadata": {},
   "outputs": [],
   "source": [
    "plt.figure(figsize=(10,10))\n",
    "sns.boxplot(m_data[\"transactiondate\"], m_data[\"logerror\"])\n",
    "plt.xticks(np.arange(0,13))\n",
    "plt.ylim([-0.2,0.2])\n",
    "plt.show()"
   ]
  },
  {
   "cell_type": "markdown",
   "metadata": {},
   "source": [
    "-------"
   ]
  },
  {
   "cell_type": "markdown",
   "metadata": {},
   "source": [
    "# Pearson of columns"
   ]
  },
  {
   "cell_type": "code",
   "execution_count": null,
   "metadata": {},
   "outputs": [],
   "source": [
    "cat_columns = ['parcelid','transactiondate','airconditioningtypeid','architecturalstyletypeid',\\\n",
    "        'buildingqualitytypeid','buildingclasstypeid','decktypeid',\\\n",
    "        'fips','hashottuborspa','heatingorsystemtypeid',\\\n",
    "        'pooltypeid10','pooltypeid2','pooltypeid7','propertycountylandusecode'\\\n",
    "        ,'propertylandusetypeid','propertyzoningdesc','rawcensustractandblock',\\\n",
    "        'regionidcity','regionidcounty','regionidneighborhood','regionidzip',\\\n",
    "        'storytypeid','typeconstructiontypeid','yearbuilt','taxdelinquencyflag']"
   ]
  },
  {
   "cell_type": "code",
   "execution_count": null,
   "metadata": {},
   "outputs": [],
   "source": [
    "num_columns = [i for i in m_data.columns if i not in cat_columns]"
   ]
  },
  {
   "cell_type": "markdown",
   "metadata": {},
   "source": [
    "## Numerical"
   ]
  },
  {
   "cell_type": "code",
   "execution_count": null,
   "metadata": {},
   "outputs": [],
   "source": [
    "corr = m_data[num_columns].corr()\n",
    "fig,ax= plt.subplots()\n",
    "fig.set_size_inches(27,18)\n",
    "sns.heatmap(corr, vmax=1., square=True, cmap=\"Blues\", annot=True, annot_kws={\"size\": 9})\n",
    "plt.show()"
   ]
  },
  {
   "cell_type": "markdown",
   "metadata": {},
   "source": [
    "## Categorical"
   ]
  },
  {
   "cell_type": "code",
   "execution_count": null,
   "metadata": {
    "scrolled": false
   },
   "outputs": [],
   "source": [
    "corr = m_data[cat_columns].corr()\n",
    "fig,ax= plt.subplots()\n",
    "fig.set_size_inches(27,18)\n",
    "sns.heatmap(corr, vmax=1., square=True, cmap=\"Blues\", annot=True, annot_kws={\"size\": 9})\n",
    "plt.show()"
   ]
  },
  {
   "cell_type": "markdown",
   "metadata": {},
   "source": [
    "# NaN plot"
   ]
  },
  {
   "cell_type": "code",
   "execution_count": null,
   "metadata": {},
   "outputs": [],
   "source": [
    "import missingno as msno"
   ]
  },
  {
   "cell_type": "code",
   "execution_count": null,
   "metadata": {},
   "outputs": [],
   "source": [
    "msno.bar(m_data, color=\"blue\", log=True, figsize=(30, 18))\n",
    "plt.show()"
   ]
  },
  {
   "cell_type": "code",
   "execution_count": null,
   "metadata": {},
   "outputs": [],
   "source": [
    "msno.matrix(m_data)\n",
    "plt.show()"
   ]
  }
 ],
 "metadata": {
  "kernelspec": {
   "display_name": "Python 3",
   "language": "python",
   "name": "python3"
  },
  "language_info": {
   "codemirror_mode": {
    "name": "ipython",
    "version": 3
   },
   "file_extension": ".py",
   "mimetype": "text/x-python",
   "name": "python",
   "nbconvert_exporter": "python",
   "pygments_lexer": "ipython3",
   "version": "3.6.5"
  }
 },
 "nbformat": 4,
 "nbformat_minor": 2
}
