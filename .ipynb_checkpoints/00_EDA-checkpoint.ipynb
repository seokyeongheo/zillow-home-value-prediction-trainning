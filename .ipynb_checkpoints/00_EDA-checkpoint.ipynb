{
 "cells": [
  {
   "cell_type": "code",
   "execution_count": 2,
   "metadata": {},
   "outputs": [],
   "source": [
    "import numpy as np\n",
    "import pandas as pd\n",
    "import scipy as sp\n",
    "import matplotlib.pyplot as plt\n",
    "import matplotlib as mpl\n",
    "import seaborn as sns\n",
    "sns.set()"
   ]
  },
  {
   "cell_type": "markdown",
   "metadata": {},
   "source": [
    "### _csv 파일 가져오기_"
   ]
  },
  {
   "cell_type": "code",
   "execution_count": 3,
   "metadata": {},
   "outputs": [
    {
     "name": "stderr",
     "output_type": "stream",
     "text": [
      "/usr/local/lib/python3.6/site-packages/IPython/core/interactiveshell.py:2785: DtypeWarning: Columns (22,32,34,49,55) have mixed types. Specify dtype option on import or set low_memory=False.\n",
      "  interactivity=interactivity, compiler=compiler, result=result)\n"
     ]
    }
   ],
   "source": [
    "df = pd.read_csv('~/src/properties_2016.csv')"
   ]
  },
  {
   "cell_type": "code",
   "execution_count": null,
   "metadata": {},
   "outputs": [],
   "source": [
    "df.head(20)"
   ]
  },
  {
   "cell_type": "code",
   "execution_count": null,
   "metadata": {},
   "outputs": [],
   "source": [
    "submission = pd.read_csv('~/src/sample_submission.csv')\n",
    "submission.tail(5)"
   ]
  },
  {
   "cell_type": "code",
   "execution_count": 48,
   "metadata": {},
   "outputs": [
    {
     "data": {
      "text/html": [
       "<div>\n",
       "<style scoped>\n",
       "    .dataframe tbody tr th:only-of-type {\n",
       "        vertical-align: middle;\n",
       "    }\n",
       "\n",
       "    .dataframe tbody tr th {\n",
       "        vertical-align: top;\n",
       "    }\n",
       "\n",
       "    .dataframe thead th {\n",
       "        text-align: right;\n",
       "    }\n",
       "</style>\n",
       "<table border=\"1\" class=\"dataframe\">\n",
       "  <thead>\n",
       "    <tr style=\"text-align: right;\">\n",
       "      <th></th>\n",
       "      <th>parcelid</th>\n",
       "      <th>logerror</th>\n",
       "      <th>transactiondate</th>\n",
       "    </tr>\n",
       "  </thead>\n",
       "  <tbody>\n",
       "    <tr>\n",
       "      <th>90270</th>\n",
       "      <td>10774160</td>\n",
       "      <td>-0.0356</td>\n",
       "      <td>2016-12-30</td>\n",
       "    </tr>\n",
       "    <tr>\n",
       "      <th>90271</th>\n",
       "      <td>12046695</td>\n",
       "      <td>0.0070</td>\n",
       "      <td>2016-12-30</td>\n",
       "    </tr>\n",
       "    <tr>\n",
       "      <th>90272</th>\n",
       "      <td>12995401</td>\n",
       "      <td>-0.2679</td>\n",
       "      <td>2016-12-30</td>\n",
       "    </tr>\n",
       "    <tr>\n",
       "      <th>90273</th>\n",
       "      <td>11402105</td>\n",
       "      <td>0.0602</td>\n",
       "      <td>2016-12-30</td>\n",
       "    </tr>\n",
       "    <tr>\n",
       "      <th>90274</th>\n",
       "      <td>12566293</td>\n",
       "      <td>0.4207</td>\n",
       "      <td>2016-12-30</td>\n",
       "    </tr>\n",
       "  </tbody>\n",
       "</table>\n",
       "</div>"
      ],
      "text/plain": [
       "       parcelid  logerror transactiondate\n",
       "90270  10774160   -0.0356      2016-12-30\n",
       "90271  12046695    0.0070      2016-12-30\n",
       "90272  12995401   -0.2679      2016-12-30\n",
       "90273  11402105    0.0602      2016-12-30\n",
       "90274  12566293    0.4207      2016-12-30"
      ]
     },
     "execution_count": 48,
     "metadata": {},
     "output_type": "execute_result"
    }
   ],
   "source": [
    "train2016 = pd.read_csv('~/src/train_2016.csv')\n",
    "train2016.tail(5)"
   ]
  },
  {
   "cell_type": "markdown",
   "metadata": {},
   "source": [
    "### *bathfamily_df : bathroomcnt, calculatedbathnbr, threequarterbathnbr, fullbathcnt*"
   ]
  },
  {
   "cell_type": "code",
   "execution_count": 5,
   "metadata": {},
   "outputs": [],
   "source": [
    "bathfamily_df = pd.DataFrame(columns=[\"bathroomcnt\", \"calculatedbathnbr\"])\n",
    "bathfamily_df[\"bathroomcnt\"] = df[\"bathroomcnt\"]\n",
    "bathfamily_df[\"calculatedbathnbr\"] = df[\"calculatedbathnbr\"]\n",
    "bathfamily_df[\"threequarterbathnbr\"] = df[\"threequarterbathnbr\"]\n",
    "bathfamily_df[\"fullbathcnt\"] = df[\"fullbathcnt\"]"
   ]
  },
  {
   "cell_type": "code",
   "execution_count": 11,
   "metadata": {},
   "outputs": [
    {
     "data": {
      "text/html": [
       "<div>\n",
       "<style scoped>\n",
       "    .dataframe tbody tr th:only-of-type {\n",
       "        vertical-align: middle;\n",
       "    }\n",
       "\n",
       "    .dataframe tbody tr th {\n",
       "        vertical-align: top;\n",
       "    }\n",
       "\n",
       "    .dataframe thead th {\n",
       "        text-align: right;\n",
       "    }\n",
       "</style>\n",
       "<table border=\"1\" class=\"dataframe\">\n",
       "  <thead>\n",
       "    <tr style=\"text-align: right;\">\n",
       "      <th></th>\n",
       "      <th>bathroomcnt</th>\n",
       "      <th>calculatedbathnbr</th>\n",
       "      <th>threequarterbathnbr</th>\n",
       "      <th>fullbathcnt</th>\n",
       "    </tr>\n",
       "  </thead>\n",
       "  <tbody>\n",
       "    <tr>\n",
       "      <th>20</th>\n",
       "      <td>0.0</td>\n",
       "      <td>NaN</td>\n",
       "      <td>NaN</td>\n",
       "      <td>NaN</td>\n",
       "    </tr>\n",
       "    <tr>\n",
       "      <th>21</th>\n",
       "      <td>0.0</td>\n",
       "      <td>NaN</td>\n",
       "      <td>NaN</td>\n",
       "      <td>NaN</td>\n",
       "    </tr>\n",
       "    <tr>\n",
       "      <th>22</th>\n",
       "      <td>0.0</td>\n",
       "      <td>NaN</td>\n",
       "      <td>NaN</td>\n",
       "      <td>NaN</td>\n",
       "    </tr>\n",
       "    <tr>\n",
       "      <th>23</th>\n",
       "      <td>0.0</td>\n",
       "      <td>NaN</td>\n",
       "      <td>NaN</td>\n",
       "      <td>NaN</td>\n",
       "    </tr>\n",
       "    <tr>\n",
       "      <th>24</th>\n",
       "      <td>0.0</td>\n",
       "      <td>NaN</td>\n",
       "      <td>NaN</td>\n",
       "      <td>NaN</td>\n",
       "    </tr>\n",
       "    <tr>\n",
       "      <th>25</th>\n",
       "      <td>0.0</td>\n",
       "      <td>NaN</td>\n",
       "      <td>NaN</td>\n",
       "      <td>NaN</td>\n",
       "    </tr>\n",
       "    <tr>\n",
       "      <th>26</th>\n",
       "      <td>4.0</td>\n",
       "      <td>4.0</td>\n",
       "      <td>NaN</td>\n",
       "      <td>4.0</td>\n",
       "    </tr>\n",
       "    <tr>\n",
       "      <th>27</th>\n",
       "      <td>0.0</td>\n",
       "      <td>NaN</td>\n",
       "      <td>NaN</td>\n",
       "      <td>NaN</td>\n",
       "    </tr>\n",
       "    <tr>\n",
       "      <th>28</th>\n",
       "      <td>2.0</td>\n",
       "      <td>2.0</td>\n",
       "      <td>NaN</td>\n",
       "      <td>2.0</td>\n",
       "    </tr>\n",
       "    <tr>\n",
       "      <th>29</th>\n",
       "      <td>4.0</td>\n",
       "      <td>4.0</td>\n",
       "      <td>NaN</td>\n",
       "      <td>4.0</td>\n",
       "    </tr>\n",
       "  </tbody>\n",
       "</table>\n",
       "</div>"
      ],
      "text/plain": [
       "    bathroomcnt  calculatedbathnbr  threequarterbathnbr  fullbathcnt\n",
       "20          0.0                NaN                  NaN          NaN\n",
       "21          0.0                NaN                  NaN          NaN\n",
       "22          0.0                NaN                  NaN          NaN\n",
       "23          0.0                NaN                  NaN          NaN\n",
       "24          0.0                NaN                  NaN          NaN\n",
       "25          0.0                NaN                  NaN          NaN\n",
       "26          4.0                4.0                  NaN          4.0\n",
       "27          0.0                NaN                  NaN          NaN\n",
       "28          2.0                2.0                  NaN          2.0\n",
       "29          4.0                4.0                  NaN          4.0"
      ]
     },
     "execution_count": 11,
     "metadata": {},
     "output_type": "execute_result"
    }
   ],
   "source": [
    "bathfamily_df[20:30]"
   ]
  },
  {
   "cell_type": "code",
   "execution_count": 21,
   "metadata": {},
   "outputs": [],
   "source": [
    "m, n = 0, 1000\n",
    "\n",
    "def make_bathf(m, n):\n",
    "    x = range(m, n)\n",
    "    y1 = bathfamily_df['bathroomcnt'][m:n]\n",
    "    y2 = bathfamily_df['calculatedbathnbr'][m:n]\n",
    "    y3 = bathfamily_df['threequarterbathnbr'][m:n]\n",
    "    y4 = bathfamily_df[\"fullbathcnt\"][m:n]\n",
    "\n",
    "    plt.subplot(221)\n",
    "    plt.plot(x, y1)\n",
    "    plt.show()\n",
    "\n",
    "    plt.subplot(222)\n",
    "    plt.plot(x, y2)\n",
    "    plt.show()\n",
    "\n",
    "    plt.subplot(223)\n",
    "    plt.plot(x, y3)\n",
    "    plt.show()\n",
    "\n",
    "    plt.subplot(224)\n",
    "    plt.plot(x, y4)\n",
    "    plt.show()"
   ]
  },
  {
   "cell_type": "code",
   "execution_count": 20,
   "metadata": {},
   "outputs": [
    {
     "data": {
      "image/png": "[encoded data removed]",
      "text/plain": [
       "<Figure size 432x288 with 1 Axes>"
      ]
     },
     "metadata": {},
     "output_type": "display_data"
    },
    {
     "data": {
      "image/png": "[encoded data removed]",
      "text/plain": [
       "<Figure size 432x288 with 1 Axes>"
      ]
     },
     "metadata": {},
     "output_type": "display_data"
    },
    {
     "data": {
      "image/png": "[encoded data removed]",
      "text/plain": [
       "<Figure size 432x288 with 1 Axes>"
      ]
     },
     "metadata": {},
     "output_type": "display_data"
    },
    {
     "data": {
      "image/png": "[encoded data removed]",
      "text/plain": [
       "<Figure size 432x288 with 1 Axes>"
      ]
     },
     "metadata": {},
     "output_type": "display_data"
    }
   ],
   "source": [
    "\n",
    "make_bathf(10000, 11000)"
   ]
  },
  {
   "cell_type": "code",
   "execution_count": null,
   "metadata": {},
   "outputs": [],
   "source": []
  },
  {
   "cell_type": "code",
   "execution_count": null,
   "metadata": {},
   "outputs": [],
   "source": []
  },
  {
   "cell_type": "code",
   "execution_count": null,
   "metadata": {},
   "outputs": [],
   "source": []
  },
  {
   "cell_type": "code",
   "execution_count": null,
   "metadata": {},
   "outputs": [],
   "source": []
  },
  {
   "cell_type": "code",
   "execution_count": null,
   "metadata": {},
   "outputs": [],
   "source": [
    "bathroomcnt_result = bathroomcnt_df.sort_values(by='probability', ascending=False)\n",
    "bathroomcnt_result.reset_index(drop=True, inplace=True)\n",
    "bathroomcnt_result = bathroomcnt_result.head(10)\n",
    "bathroomcnt_result"
   ]
  },
  {
   "cell_type": "code",
   "execution_count": null,
   "metadata": {},
   "outputs": [],
   "source": [
    "x = bathroomcnt_df['bathroomcnt'].values\n",
    "y = bathroomcnt_df['probability'].values\n",
    "\n",
    "plt.figure(figsize = (8, 6))\n",
    "plt.xticks(range(0, 20))\n",
    "plt.bar(x, y)\n",
    "# plt.pie(y, labels=labels, autopct='%d%%')\n",
    "plt.show()"
   ]
  },
  {
   "cell_type": "markdown",
   "metadata": {},
   "source": [
    "#### _calculatedbathnbr :  Number of bathrooms in home including fractional bathroom_\n",
    "\n",
    "- bathroomcnt와 거의 흡사하다. 그러나 방 갯수 0개인 데이터가 포함되지 않았다."
   ]
  },
  {
   "cell_type": "code",
   "execution_count": null,
   "metadata": {},
   "outputs": [],
   "source": [
    "calbathroomcnt_df = df.groupby(['calculatedbathnbr']).size().reset_index(name='counts')\n",
    "calbathroomcnt_counts = calbathroomcnt_df['counts'].values\n",
    "calbathroomcnt_df['probability'] = calbathroomcnt_counts / sum(calbathroomcnt_counts)\n",
    "calbathroomcnt_df"
   ]
  },
  {
   "cell_type": "code",
   "execution_count": null,
   "metadata": {},
   "outputs": [],
   "source": [
    "calbathroomcnt_result = calbathroomcnt_df.sort_values(by='probability', ascending=False)\n",
    "calbathroomcnt_result.reset_index(drop=True, inplace=True)\n",
    "calbathroomcnt_result = calbathroomcnt_result.head(10)\n",
    "calbathroomcnt_result"
   ]
  },
  {
   "cell_type": "code",
   "execution_count": null,
   "metadata": {},
   "outputs": [],
   "source": [
    "x = calbathroomcnt_df['calculatedbathnbr'].values\n",
    "y = calbathroomcnt_df['probability'].values\n",
    "\n",
    "plt.figure(figsize = (8, 6))\n",
    "plt.xticks(range(0, 20))\n",
    "plt.bar(x, y)\n",
    "# plt.pie(y, labels=labels, autopct='%d%%')\n",
    "plt.show()"
   ]
  },
  {
   "cell_type": "code",
   "execution_count": null,
   "metadata": {},
   "outputs": [],
   "source": [
    "y = calbathroomcnt_result['probability'].values\n",
    "labels = calbathroomcnt_result['calculatedbathnbr'].values\n",
    "\n",
    "plt.figure(figsize = (8, 6))\n",
    "plt.pie(y, labels=labels, autopct='%d%%')\n",
    "plt.show()"
   ]
  },
  {
   "cell_type": "markdown",
   "metadata": {},
   "source": [
    "#### _threequarterbathnbr :  Number of 3/4 bathrooms in house (shower + sink + toilet)_"
   ]
  },
  {
   "cell_type": "code",
   "execution_count": null,
   "metadata": {},
   "outputs": [],
   "source": [
    "# 특정 속성 가져와서 갯수, 비율 칼럼 더하기\n",
    "threequarterbathnbr_df = df.groupby(['threequarterbathnbr']).size().reset_index(name='counts')\n",
    "threequarterbathnbr_counts = threequarterbathnbr_df['counts'].values\n",
    "threequarterbathnbr_df['probability'] = threequarterbathnbr_counts / sum(threequarterbathnbr_counts)\n",
    "threequarterbathnbr_df"
   ]
  },
  {
   "cell_type": "code",
   "execution_count": null,
   "metadata": {},
   "outputs": [],
   "source": [
    "threequarterbathnbr_result = threequarterbathnbr_df.sort_values(by='probability', ascending=False)\n",
    "threequarterbathnbr_result.reset_index(drop=True, inplace=True)\n",
    "threequarterbathnbr_result = threequarterbathnbr_result.head(10)\n",
    "threequarterbathnbr_result"
   ]
  },
  {
   "cell_type": "code",
   "execution_count": null,
   "metadata": {},
   "outputs": [],
   "source": [
    "y = threequarterbathnbr_result['probability'].values\n",
    "labels = threequarterbathnbr_result['threequarterbathnbr'].values\n",
    "\n",
    "plt.figure(figsize = (8, 6))\n",
    "plt.pie(y, labels=labels, autopct='%d%%')\n",
    "plt.show()"
   ]
  },
  {
   "cell_type": "markdown",
   "metadata": {},
   "source": [
    "#### _fullbathcnt :  Number of full bathrooms (sink, shower + bathtub, and toilet) present in home_"
   ]
  },
  {
   "cell_type": "code",
   "execution_count": null,
   "metadata": {},
   "outputs": [],
   "source": [
    "# 특정 속성 가져와서 갯수, 비율 칼럼 더하기\n",
    "fullbathcnt_df = df.groupby(['fullbathcnt']).size().reset_index(name='counts')\n",
    "fullbathcnt_counts = fullbathcnt_df['counts'].values\n",
    "fullbathcnt_df['probability'] = fullbathcnt_counts / sum(fullbathcnt_counts)\n",
    "fullbathcnt_df"
   ]
  },
  {
   "cell_type": "code",
   "execution_count": null,
   "metadata": {},
   "outputs": [],
   "source": [
    "# 비율이 높은 순서대로 정렬하기\n",
    "fullbathcnt_result = fullbathcnt_df.sort_values(by='probability', ascending=False)\n",
    "fullbathcnt_result.reset_index(drop=True, inplace=True)\n",
    "fullbathcnt_result = fullbathcnt_result.head(10)\n",
    "fullbathcnt_result"
   ]
  },
  {
   "cell_type": "code",
   "execution_count": null,
   "metadata": {},
   "outputs": [],
   "source": [
    "# pi 그래프로 시각화\n",
    "y = fullbathcnt_df['probability'].values\n",
    "labels = fullbathcnt_df['fullbathcnt'].values\n",
    "\n",
    "plt.figure(figsize = (8, 6))\n",
    "plt.pie(y, labels=labels, autopct='%d%%')\n",
    "plt.show()"
   ]
  },
  {
   "cell_type": "code",
   "execution_count": null,
   "metadata": {},
   "outputs": [],
   "source": []
  },
  {
   "cell_type": "markdown",
   "metadata": {},
   "source": [
    "### _room count_"
   ]
  },
  {
   "cell_type": "code",
   "execution_count": null,
   "metadata": {},
   "outputs": [],
   "source": [
    "roomcnt_df = df.groupby(['roomcnt']).size().reset_index(name='counts')\n",
    "roomcnt_df['probability'] = roomcnt_counts / sum(roomcnt_counts) * 100\n",
    "roomcnt_df"
   ]
  },
  {
   "cell_type": "code",
   "execution_count": null,
   "metadata": {},
   "outputs": [],
   "source": [
    "roomcnt_df = df.groupby(['roomcnt']).size().reset_index(name='counts')\n",
    "roomcnt_df"
   ]
  },
  {
   "cell_type": "code",
   "execution_count": null,
   "metadata": {},
   "outputs": [],
   "source": [
    "x = roomcnt_df['roomcnt'].values\n",
    "y = roomcnt_df['counts'].values\n",
    "\n",
    "x, y"
   ]
  },
  {
   "cell_type": "code",
   "execution_count": null,
   "metadata": {
    "scrolled": true
   },
   "outputs": [],
   "source": [
    "plt.figure(figsize = (20, 15))\n",
    "plt.plot(x, y)\n",
    "plt.xlim(0, 40)\n",
    "plt.ylim(0, 3000000)\n",
    "plt.title(\"room count graph\")\n",
    "plt.show()"
   ]
  },
  {
   "cell_type": "markdown",
   "metadata": {},
   "source": [
    "### _fireplacecnt_"
   ]
  },
  {
   "cell_type": "code",
   "execution_count": null,
   "metadata": {},
   "outputs": [],
   "source": [
    "fireplacecnt_df = df.groupby(['fireplacecnt']).size().reset_index(name='counts')\n",
    "fireplacecnt_df"
   ]
  },
  {
   "cell_type": "code",
   "execution_count": null,
   "metadata": {},
   "outputs": [],
   "source": []
  },
  {
   "cell_type": "code",
   "execution_count": null,
   "metadata": {},
   "outputs": [],
   "source": [
    "## _taxfamily : _"
   ]
  },
  {
   "cell_type": "code",
   "execution_count": null,
   "metadata": {},
   "outputs": [],
   "source": [
    "bathfamily_df = pd.DataFrame(columns=[\"bathroomcnt\", \"calculatedbathnbr\"])\n",
    "bathfamily_df[\"bathroomcnt\"] = df[\"bathroomcnt\"]\n",
    "bathfamily_df[\"calculatedbathnbr\"] = df[\"calculatedbathnbr\"]\n",
    "bathfamily_df[\"threequarterbathnbr\"] = df[\"threequarterbathnbr\"]\n",
    "bathfamily_df[\"fullbathcnt\"] = df[\"fullbathcnt\"]"
   ]
  },
  {
   "cell_type": "code",
   "execution_count": 28,
   "metadata": {},
   "outputs": [],
   "source": [
    "taxfamily_df = pd.DataFrame(columns=['taxvaluedollarcnt', 'structuretaxvaluedollarcnt',\\\n",
    "                                     'landtaxvaluedollarcnt', 'taxamount'])\n",
    "taxfamily_df['taxvaluedollarcnt'] = df['taxvaluedollarcnt']\n",
    "taxfamily_df['structuretaxvaluedollarcnt'] = df['structuretaxvaluedollarcnt']\n",
    "taxfamily_df['landtaxvaluedollarcnt'] = df['landtaxvaluedollarcnt']\n",
    "taxfamily_df['taxamount'] = df['taxamount']"
   ]
  },
  {
   "cell_type": "code",
   "execution_count": 37,
   "metadata": {},
   "outputs": [
    {
     "data": {
      "text/html": [
       "<div>\n",
       "<style scoped>\n",
       "    .dataframe tbody tr th:only-of-type {\n",
       "        vertical-align: middle;\n",
       "    }\n",
       "\n",
       "    .dataframe tbody tr th {\n",
       "        vertical-align: top;\n",
       "    }\n",
       "\n",
       "    .dataframe thead th {\n",
       "        text-align: right;\n",
       "    }\n",
       "</style>\n",
       "<table border=\"1\" class=\"dataframe\">\n",
       "  <thead>\n",
       "    <tr style=\"text-align: right;\">\n",
       "      <th></th>\n",
       "      <th>taxvaluedollarcnt</th>\n",
       "      <th>structuretaxvaluedollarcnt</th>\n",
       "      <th>landtaxvaluedollarcnt</th>\n",
       "      <th>taxamount</th>\n",
       "      <th>taxofstructurland</th>\n",
       "    </tr>\n",
       "  </thead>\n",
       "  <tbody>\n",
       "    <tr>\n",
       "      <th>2985212</th>\n",
       "      <td>0.0</td>\n",
       "      <td>0.0</td>\n",
       "      <td>0.0</td>\n",
       "      <td>0.0</td>\n",
       "      <td>0.0</td>\n",
       "    </tr>\n",
       "    <tr>\n",
       "      <th>2985213</th>\n",
       "      <td>0.0</td>\n",
       "      <td>0.0</td>\n",
       "      <td>0.0</td>\n",
       "      <td>0.0</td>\n",
       "      <td>0.0</td>\n",
       "    </tr>\n",
       "    <tr>\n",
       "      <th>2985214</th>\n",
       "      <td>0.0</td>\n",
       "      <td>0.0</td>\n",
       "      <td>0.0</td>\n",
       "      <td>0.0</td>\n",
       "      <td>0.0</td>\n",
       "    </tr>\n",
       "    <tr>\n",
       "      <th>2985215</th>\n",
       "      <td>0.0</td>\n",
       "      <td>0.0</td>\n",
       "      <td>0.0</td>\n",
       "      <td>0.0</td>\n",
       "      <td>0.0</td>\n",
       "    </tr>\n",
       "    <tr>\n",
       "      <th>2985216</th>\n",
       "      <td>0.0</td>\n",
       "      <td>0.0</td>\n",
       "      <td>0.0</td>\n",
       "      <td>0.0</td>\n",
       "      <td>0.0</td>\n",
       "    </tr>\n",
       "  </tbody>\n",
       "</table>\n",
       "</div>"
      ],
      "text/plain": [
       "         taxvaluedollarcnt  structuretaxvaluedollarcnt  landtaxvaluedollarcnt  \\\n",
       "2985212                0.0                         0.0                    0.0   \n",
       "2985213                0.0                         0.0                    0.0   \n",
       "2985214                0.0                         0.0                    0.0   \n",
       "2985215                0.0                         0.0                    0.0   \n",
       "2985216                0.0                         0.0                    0.0   \n",
       "\n",
       "         taxamount  taxofstructurland  \n",
       "2985212        0.0                0.0  \n",
       "2985213        0.0                0.0  \n",
       "2985214        0.0                0.0  \n",
       "2985215        0.0                0.0  \n",
       "2985216        0.0                0.0  "
      ]
     },
     "execution_count": 37,
     "metadata": {},
     "output_type": "execute_result"
    }
   ],
   "source": [
    "taxfamily_df.fillna(value=0, inplace=True)\n",
    "taxfamily_df.tail()"
   ]
  },
  {
   "cell_type": "code",
   "execution_count": 38,
   "metadata": {},
   "outputs": [],
   "source": [
    "taxfamily_df['taxofstructurland'] = taxfamily_df['structuretaxvaluedollarcnt'] + taxfamily_df['landtaxvaluedollarcnt']"
   ]
  },
  {
   "cell_type": "code",
   "execution_count": 47,
   "metadata": {},
   "outputs": [
    {
     "data": {
      "text/html": [
       "<div>\n",
       "<style scoped>\n",
       "    .dataframe tbody tr th:only-of-type {\n",
       "        vertical-align: middle;\n",
       "    }\n",
       "\n",
       "    .dataframe tbody tr th {\n",
       "        vertical-align: top;\n",
       "    }\n",
       "\n",
       "    .dataframe thead th {\n",
       "        text-align: right;\n",
       "    }\n",
       "</style>\n",
       "<table border=\"1\" class=\"dataframe\">\n",
       "  <thead>\n",
       "    <tr style=\"text-align: right;\">\n",
       "      <th></th>\n",
       "      <th>taxvaluedollarcnt</th>\n",
       "      <th>structuretaxvaluedollarcnt</th>\n",
       "      <th>landtaxvaluedollarcnt</th>\n",
       "      <th>taxamount</th>\n",
       "      <th>taxofstructurland</th>\n",
       "    </tr>\n",
       "  </thead>\n",
       "  <tbody>\n",
       "    <tr>\n",
       "      <th>2985212</th>\n",
       "      <td>0.0</td>\n",
       "      <td>0.0</td>\n",
       "      <td>0.0</td>\n",
       "      <td>0.0</td>\n",
       "      <td>0.0</td>\n",
       "    </tr>\n",
       "    <tr>\n",
       "      <th>2985213</th>\n",
       "      <td>0.0</td>\n",
       "      <td>0.0</td>\n",
       "      <td>0.0</td>\n",
       "      <td>0.0</td>\n",
       "      <td>0.0</td>\n",
       "    </tr>\n",
       "    <tr>\n",
       "      <th>2985214</th>\n",
       "      <td>0.0</td>\n",
       "      <td>0.0</td>\n",
       "      <td>0.0</td>\n",
       "      <td>0.0</td>\n",
       "      <td>0.0</td>\n",
       "    </tr>\n",
       "    <tr>\n",
       "      <th>2985215</th>\n",
       "      <td>0.0</td>\n",
       "      <td>0.0</td>\n",
       "      <td>0.0</td>\n",
       "      <td>0.0</td>\n",
       "      <td>0.0</td>\n",
       "    </tr>\n",
       "    <tr>\n",
       "      <th>2985216</th>\n",
       "      <td>0.0</td>\n",
       "      <td>0.0</td>\n",
       "      <td>0.0</td>\n",
       "      <td>0.0</td>\n",
       "      <td>0.0</td>\n",
       "    </tr>\n",
       "  </tbody>\n",
       "</table>\n",
       "</div>"
      ],
      "text/plain": [
       "         taxvaluedollarcnt  structuretaxvaluedollarcnt  landtaxvaluedollarcnt  \\\n",
       "2985212                0.0                         0.0                    0.0   \n",
       "2985213                0.0                         0.0                    0.0   \n",
       "2985214                0.0                         0.0                    0.0   \n",
       "2985215                0.0                         0.0                    0.0   \n",
       "2985216                0.0                         0.0                    0.0   \n",
       "\n",
       "         taxamount  taxofstructurland  \n",
       "2985212        0.0                0.0  \n",
       "2985213        0.0                0.0  \n",
       "2985214        0.0                0.0  \n",
       "2985215        0.0                0.0  \n",
       "2985216        0.0                0.0  "
      ]
     },
     "execution_count": 47,
     "metadata": {},
     "output_type": "execute_result"
    }
   ],
   "source": [
    "taxfamily_df.tail()"
   ]
  },
  {
   "cell_type": "code",
   "execution_count": null,
   "metadata": {},
   "outputs": [],
   "source": []
  },
  {
   "cell_type": "markdown",
   "metadata": {},
   "source": [
    "#### _taxvaluedollarcnt : The total tax assessed value of the parcel_"
   ]
  },
  {
   "cell_type": "code",
   "execution_count": null,
   "metadata": {},
   "outputs": [],
   "source": [
    "taxvaluedollarcnt_df = df.groupby(['taxvaluedollarcnt']).size().reset_index(name='counts')\n",
    "taxvaluedollarcnt_df"
   ]
  },
  {
   "cell_type": "code",
   "execution_count": null,
   "metadata": {},
   "outputs": [],
   "source": [
    "print(np.mean(taxvaluedollarcnt_df['taxvaluedollarcnt'].values))\n",
    "print(np.median(taxvaluedollarcnt_df['taxvaluedollarcnt'].values))"
   ]
  },
  {
   "cell_type": "code",
   "execution_count": null,
   "metadata": {},
   "outputs": [],
   "source": [
    "x = taxvaluedollarcnt_df['taxvaluedollarcnt'].values\n",
    "y = taxvaluedollarcnt_df['counts'].values\n",
    "\n",
    "plt.bar(x, y)\n",
    "plt.show()"
   ]
  },
  {
   "cell_type": "code",
   "execution_count": null,
   "metadata": {},
   "outputs": [],
   "source": [
    "x = taxvaluedollarcnt_df['taxvaluedollarcnt'].values\n",
    "y = taxvaluedollarcnt_df['counts'].values\n",
    "\n",
    "plt.subplot(2, 2, 1)\n",
    "plt.plot(x)\n",
    "plt.show()\n",
    "\n",
    "plt.subplot(2, 2, 2)\n",
    "plt.plot(x)\n",
    "plt.xlim(638000, 639000)\n",
    "plt.show()\n",
    "\n",
    "plt.subplot(2, 2, 3)\n",
    "plt.plot(x)\n",
    "plt.xlim(638500, 639000)\n",
    "plt.show()\n",
    "\n",
    "plt.subplot(2, 2, 4)\n",
    "plt.plot(x)\n",
    "plt.xlim(0, 638500)\n",
    "plt.show()"
   ]
  },
  {
   "cell_type": "code",
   "execution_count": 40,
   "metadata": {},
   "outputs": [],
   "source": [
    "## _finishedsquare_"
   ]
  },
  {
   "cell_type": "code",
   "execution_count": 49,
   "metadata": {},
   "outputs": [],
   "source": [
    "finishedsquare_df = pd.DataFrame(columns=['finishedfloor1squarefeet','calculatedfinishedsquarefeet', 'finishedsquarefeet6', 'finishedsquarefeet12',\\\n",
    "                                          'finishedsquarefeet13', 'finishedsquarefeet15',\\\n",
    "                                          'finishedsquarefeet50'])"
   ]
  },
  {
   "cell_type": "code",
   "execution_count": 51,
   "metadata": {},
   "outputs": [],
   "source": [
    "finishedsquare_df['finishedfloor1squarefeet'] = df['finishedfloor1squarefeet']\n",
    "finishedsquare_df['calculatedfinishedsquarefeet'] = df['calculatedfinishedsquarefeet']\n",
    "finishedsquare_df['finishedsquarefeet6'] = df['finishedsquarefeet6']\n",
    "finishedsquare_df['finishedsquarefeet12'] = df['finishedsquarefeet12']\n",
    "finishedsquare_df['finishedsquarefeet13'] = df['finishedsquarefeet13']\n",
    "finishedsquare_df['finishedsquarefeet15'] = df['finishedsquarefeet15']\n",
    "finishedsquare_df['finishedsquarefeet50'] = df['finishedsquarefeet50']"
   ]
  },
  {
   "cell_type": "code",
   "execution_count": 55,
   "metadata": {},
   "outputs": [
    {
     "data": {
      "text/html": [
       "<div>\n",
       "<style scoped>\n",
       "    .dataframe tbody tr th:only-of-type {\n",
       "        vertical-align: middle;\n",
       "    }\n",
       "\n",
       "    .dataframe tbody tr th {\n",
       "        vertical-align: top;\n",
       "    }\n",
       "\n",
       "    .dataframe thead th {\n",
       "        text-align: right;\n",
       "    }\n",
       "</style>\n",
       "<table border=\"1\" class=\"dataframe\">\n",
       "  <thead>\n",
       "    <tr style=\"text-align: right;\">\n",
       "      <th></th>\n",
       "      <th>finishedfloor1squarefeet</th>\n",
       "      <th>calculatedfinishedsquarefeet</th>\n",
       "      <th>finishedsquarefeet6</th>\n",
       "      <th>finishedsquarefeet12</th>\n",
       "      <th>finishedsquarefeet13</th>\n",
       "      <th>finishedsquarefeet15</th>\n",
       "      <th>finishedsquarefeet50</th>\n",
       "    </tr>\n",
       "  </thead>\n",
       "  <tbody>\n",
       "    <tr>\n",
       "      <th>2985212</th>\n",
       "      <td>NaN</td>\n",
       "      <td>NaN</td>\n",
       "      <td>NaN</td>\n",
       "      <td>NaN</td>\n",
       "      <td>NaN</td>\n",
       "      <td>NaN</td>\n",
       "      <td>NaN</td>\n",
       "    </tr>\n",
       "    <tr>\n",
       "      <th>2985213</th>\n",
       "      <td>NaN</td>\n",
       "      <td>NaN</td>\n",
       "      <td>NaN</td>\n",
       "      <td>NaN</td>\n",
       "      <td>NaN</td>\n",
       "      <td>NaN</td>\n",
       "      <td>NaN</td>\n",
       "    </tr>\n",
       "    <tr>\n",
       "      <th>2985214</th>\n",
       "      <td>NaN</td>\n",
       "      <td>NaN</td>\n",
       "      <td>NaN</td>\n",
       "      <td>NaN</td>\n",
       "      <td>NaN</td>\n",
       "      <td>NaN</td>\n",
       "      <td>NaN</td>\n",
       "    </tr>\n",
       "    <tr>\n",
       "      <th>2985215</th>\n",
       "      <td>NaN</td>\n",
       "      <td>NaN</td>\n",
       "      <td>NaN</td>\n",
       "      <td>NaN</td>\n",
       "      <td>NaN</td>\n",
       "      <td>NaN</td>\n",
       "      <td>NaN</td>\n",
       "    </tr>\n",
       "    <tr>\n",
       "      <th>2985216</th>\n",
       "      <td>NaN</td>\n",
       "      <td>NaN</td>\n",
       "      <td>NaN</td>\n",
       "      <td>NaN</td>\n",
       "      <td>NaN</td>\n",
       "      <td>NaN</td>\n",
       "      <td>NaN</td>\n",
       "    </tr>\n",
       "  </tbody>\n",
       "</table>\n",
       "</div>"
      ],
      "text/plain": [
       "         finishedfloor1squarefeet  calculatedfinishedsquarefeet  \\\n",
       "2985212                       NaN                           NaN   \n",
       "2985213                       NaN                           NaN   \n",
       "2985214                       NaN                           NaN   \n",
       "2985215                       NaN                           NaN   \n",
       "2985216                       NaN                           NaN   \n",
       "\n",
       "         finishedsquarefeet6  finishedsquarefeet12  finishedsquarefeet13  \\\n",
       "2985212                  NaN                   NaN                   NaN   \n",
       "2985213                  NaN                   NaN                   NaN   \n",
       "2985214                  NaN                   NaN                   NaN   \n",
       "2985215                  NaN                   NaN                   NaN   \n",
       "2985216                  NaN                   NaN                   NaN   \n",
       "\n",
       "         finishedsquarefeet15  finishedsquarefeet50  \n",
       "2985212                   NaN                   NaN  \n",
       "2985213                   NaN                   NaN  \n",
       "2985214                   NaN                   NaN  \n",
       "2985215                   NaN                   NaN  \n",
       "2985216                   NaN                   NaN  "
      ]
     },
     "execution_count": 55,
     "metadata": {},
     "output_type": "execute_result"
    }
   ],
   "source": [
    "finishedsquare_df.tail()"
   ]
  },
  {
   "cell_type": "code",
   "execution_count": 62,
   "metadata": {},
   "outputs": [
    {
     "name": "stdout",
     "output_type": "stream",
     "text": [
      "2929652\n",
      "2929655\n"
     ]
    }
   ],
   "source": [
    "print(finishedsquare_df['calculatedfinishedsquarefeet'].notna().sum())\n",
    "print(finishedsquare_df['finishedsquarefeet6'].notna().sum()+\\\n",
    "      finishedsquare_df['finishedsquarefeet12'].notna().sum()+\\\n",
    "      finishedsquare_df['finishedsquarefeet13'].notna().sum()+\\\n",
    "      finishedsquare_df['finishedsquarefeet15'].notna().sum())\n"
   ]
  },
  {
   "cell_type": "code",
   "execution_count": 61,
   "metadata": {},
   "outputs": [
    {
     "name": "stdout",
     "output_type": "stream",
     "text": [
      "202717\n",
      "2929652\n",
      "22001\n",
      "2709184\n",
      "7672\n",
      "190798\n",
      "202717\n"
     ]
    }
   ],
   "source": [
    "print(finishedsquare_df['finishedfloor1squarefeet'].notna().sum())\n",
    "print(finishedsquare_df['calculatedfinishedsquarefeet'].notna().sum())\n",
    "print(finishedsquare_df['finishedsquarefeet6'].notna().sum())\n",
    "print(finishedsquare_df['finishedsquarefeet12'].notna().sum())\n",
    "print(finishedsquare_df['finishedsquarefeet13'].notna().sum())\n",
    "print(finishedsquare_df['finishedsquarefeet15'].notna().sum())\n",
    "print(finishedsquare_df['finishedsquarefeet50'].notna().sum())"
   ]
  },
  {
   "cell_type": "code",
   "execution_count": null,
   "metadata": {},
   "outputs": [],
   "source": []
  },
  {
   "cell_type": "code",
   "execution_count": null,
   "metadata": {},
   "outputs": [],
   "source": []
  }
 ],
 "metadata": {
  "kernelspec": {
   "display_name": "Python 3",
   "language": "python",
   "name": "python3"
  },
  "language_info": {
   "codemirror_mode": {
    "name": "ipython",
    "version": 3
   },
   "file_extension": ".py",
   "mimetype": "text/x-python",
   "name": "python",
   "nbconvert_exporter": "python",
   "pygments_lexer": "ipython3",
   "version": "3.6.5"
  }
 },
 "nbformat": 4,
 "nbformat_minor": 2
}
